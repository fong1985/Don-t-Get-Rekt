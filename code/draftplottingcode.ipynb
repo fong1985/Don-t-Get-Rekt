{
 "cells": [
  {
   "cell_type": "code",
   "execution_count": null,
   "id": "7ea11b4c",
   "metadata": {},
   "outputs": [],
   "source": [
    "\"\"\"\n",
    "import dependencies etc.\n",
    "\"\"\""
   ]
  },
  {
   "cell_type": "markdown",
   "id": "5b368a8b",
   "metadata": {},
   "source": [
    "### CSV FILES \n",
    "PRICE CSV = csv1\n",
    "VOLUME CSV = csv2\n",
    "VOLATILITY = csv3\n",
    "DAILY LIQUIDATION = csv4\n",
    "LARGEST LIQUIDATION = csv5\n",
    "OPEN INTEREST = csv6\n",
    "LONG SHORT = csv7\n"
   ]
  },
  {
   "cell_type": "markdown",
   "id": "a521b6a9",
   "metadata": {},
   "source": [
    "### GENERAL PLOTTING DATA"
   ]
  },
  {
   "cell_type": "code",
   "execution_count": null,
   "id": "97e4bd12",
   "metadata": {},
   "outputs": [],
   "source": [
    "#something to parse the csvs faster\n",
    "def data (x):\n",
    "    x.reset_index(inplace = True),\n",
    "    x.set_index(\"Date\")\n",
    "    x.dropna(inplace = True)"
   ]
  },
  {
   "cell_type": "code",
   "execution_count": null,
   "id": "ddadc468",
   "metadata": {},
   "outputs": [],
   "source": [
    "#PLOTTING PRICES\n",
    "prices = pd.readcsv(\"data/prices.csv\")\n",
    "#use if needed\n",
    "#infer_datetime_format=True, parse_dates=True\n",
    "prices.reset_index(inplace = True)\n",
    "prices.set_index(\"Date\")\n",
    "prices.dropna(inplace = True)\n",
    "plot_prices = prices.hvplot.area(x = \"Date\", y=\"Price\", label = \"Historic XBT Prices in USD Binance\", ylim = 75000, height = 900, width = 500)\n",
    "\n",
    "#PLOTTING AN OHLC FOR PRICES FROM THE LAST MONTH\n",
    "prices.iloc[-31].hvplot.ohlc(nel_color = \"indianred\", pos_color = \"lime\", line_color = \"gray\", bar_width = 1.1, grid=True)"
   ]
  },
  {
   "cell_type": "code",
   "execution_count": null,
   "id": "6442628a",
   "metadata": {},
   "outputs": [],
   "source": [
    "#PLOTTING VOLUME\n",
    "volume = pd.readcsv(\"data/volume.csv\")\n",
    "#use if needed\n",
    "#infer_datetime_format=True, parse_dates=True\n",
    "volume.reset_index(inplace = True)\n",
    "volume.set_index(\"Date\")\n",
    "volume.dropna(inplace = True)\n",
    "volume.hvplot.area(x=\"Date\", y=\"Volume\", label = \"Historic Volume by Date Binance\", ylim = (\"maximumvolume (max.volume)\" + (volume.std()), height = 600, width = 600)"
   ]
  },
  {
   "cell_type": "code",
   "execution_count": null,
   "id": "338b0c46",
   "metadata": {},
   "outputs": [],
   "source": [
    "#PLOTTING OHLC FOR LAST YEAR\n",
    "#MERGE VOLUME AND PRICE\n",
    "prices_merged = prices.merge(volume, on = \"Date\", how = \"inner\")\n",
    "#plotting\n",
    "from holoviews.plotting.links import RangeToolLink\n",
    "prices_2021 = prices_merged[prices_merged.date > pd.to_datetime(\"2021\")]\n",
    "ohlc = prices_2021.hvplot.ohlc(ylabel = \"Price\", grid = True, xaxis = None)\n",
    "overview = prices_2021.hvplot.ohlc(yaxis = None, height = 150, fields = {\"date\":\"Date\"})\n",
    "volume = prices_2021.hvplot.step(\"date\", \"voume\", height = 100, xaxis = None)\n",
    "RangeToolLink(overview.get(0), ohlc.get(0))\n",
    "layout = (volume + ohlc + overview).cols(1)\n",
    "layout.opts(merge_tools = False)"
   ]
  },
  {
   "cell_type": "code",
   "execution_count": null,
   "id": "26372497",
   "metadata": {},
   "outputs": [],
   "source": [
    "#PLOTTING SMAS 30,90,180 SMA\n",
    "prices_plot = prices.hvplot()\n",
    "prices_30SMA = prices.rolling(window=30).mean().hvplot()\n",
    "prices_90SMA = prices.rolling(window = 90).mean().hvplot()\n",
    "price_180SMA = prices.rolling(window = 180).mean().hvplot()"
   ]
  },
  {
   "cell_type": "code",
   "execution_count": null,
   "id": "284007bf",
   "metadata": {},
   "outputs": [],
   "source": [
    "#plotting std deviation movements\n",
    "prices.rolling(window=30).std().hvlot()\n",
    "prices.rolling(window=90).std().hvlot()\n",
    "prices.rolling(window=180).std().hvlot()"
   ]
  },
  {
   "cell_type": "code",
   "execution_count": null,
   "id": "52230c3c",
   "metadata": {},
   "outputs": [],
   "source": [
    "#Calculating Volatility\n",
    "#Sharpe Ratio\n",
    "sharpe_ratio = prices.mean()/prices.std()\n",
    "sharpe_ratio.hvplot(x = \"Bitcoin\", y = \"Sharpe Ratio\", label = \"Bitcoin Sharpe Ratio from 2017-2021\", height = 600, width = 400)"
   ]
  },
  {
   "cell_type": "code",
   "execution_count": null,
   "id": "714628f3",
   "metadata": {},
   "outputs": [],
   "source": [
    "#plotting daily liquidations\n",
    "daily_liqs = pd.readcsv(\"data/liquidations.csv\")\n",
    "#use if needed\n",
    "#infer_datetime_format=True, parse_dates=True\n",
    "daily_liqs.reset_index(inplace = True)\n",
    "daily_liqs.set_index(\"Date\")\n",
    "daily_liqs.dropna(inplace = True)\n",
    "daily_liqs.hvplot.step(x = \"Historic XBT Liquidations on Binance\", y = \"Amount Liquidated\", legend = \"top\", height = 800, width = 1200)"
   ]
  },
  {
   "cell_type": "code",
   "execution_count": null,
   "id": "62e0bb27",
   "metadata": {},
   "outputs": [],
   "source": [
    "#plotting distrubtion and spread of liquidations using a KDE plot\n",
    "daily_liqs.hvplot.kde()"
   ]
  },
  {
   "cell_type": "code",
   "execution_count": null,
   "id": "e5173b95",
   "metadata": {},
   "outputs": [],
   "source": [
    "#plotting liquidation data using KDE plot, separated by year, this should give us a view on whether the increase of price from 2017 to 2021 has increased total amount liquidated\n",
    "import numpy as np\n",
    "import colorcet as cc\n",
    "categorical_cmap = [cc.rainbow[int(x)] for x in np.linspace(0, 255, 12)]\n",
    "daily_liqs.hvplot.kde(by=\"time.year\", cmap = categorical_cmap, legend = \"top\", height = 700)"
   ]
  },
  {
   "cell_type": "code",
   "execution_count": null,
   "id": "e90d177e",
   "metadata": {},
   "outputs": [],
   "source": [
    "#plotting the largest liquidations\n",
    "\"\"\"\n",
    "depending on how data collection goes, ill either plot it normally as above, or have to get it from liquidation data\n",
    "\"\"\""
   ]
  },
  {
   "cell_type": "code",
   "execution_count": null,
   "id": "bea09a3e",
   "metadata": {},
   "outputs": [],
   "source": [
    "#plotting open interest\n",
    "open_interest = pd.read_csv(\"data/open_interest.csv\")\n",
    "data (open_interest)\n",
    "open_interest.hvplot.step(x = \"Time\", y = \"Positions Opened\", legend = \"top\", height = 700, width = 1200)"
   ]
  },
  {
   "cell_type": "code",
   "execution_count": null,
   "id": "b156308a",
   "metadata": {},
   "outputs": [],
   "source": [
    "#plotting open interest with a KDE to graph density\n",
    "open_interest.hvplot.kde()"
   ]
  },
  {
   "cell_type": "code",
   "execution_count": null,
   "id": "8eb6e5ae",
   "metadata": {},
   "outputs": [],
   "source": [
    "#plotting density of open interest by year\n",
    "#using the categorical cmap from before\n",
    "categorical_cmap = [cc.rainbow[int(x)] for x in np.linspace(0, 255, 12)]\n",
    "open_interest.hvplot.kde(by='time.year', cmap = categorical_cmap, legend = \"top\", height = 700)\n"
   ]
  },
  {
   "cell_type": "code",
   "execution_count": null,
   "id": "20c8b2c7",
   "metadata": {},
   "outputs": [],
   "source": [
    "#plotting long/short positions\n",
    "positions = pd.read_csv(\"data/long_short_positions.csv\")\n",
    "data (positions)\n",
    "grouped_positions = positions.groupby([\"Date\", \"Long\", \"Short\"]).mean()\n",
    "grouped_positions.hvplot.bar(stacked = True, height = 900, legend = \"top\")"
   ]
  },
  {
   "cell_type": "markdown",
   "id": "38d39abd",
   "metadata": {},
   "source": [
    "### SEPARATOR #####################################################"
   ]
  },
  {
   "cell_type": "markdown",
   "id": "f4a23df6",
   "metadata": {},
   "source": [
    "### MORE SPECIFIC GRAPHS PLOTTING AROUND 2017-2018 CRASH"
   ]
  },
  {
   "cell_type": "code",
   "execution_count": null,
   "id": "244ee9a6",
   "metadata": {},
   "outputs": [],
   "source": [
    "#prices\n",
    "prices['Date'] = pd.to_datetime(prices[\"Date\"])\n",
    "prices_2017 = prices.[prices[\"Date\"].dtyear == [2017,2018]]\n"
   ]
  }
 ],
 "metadata": {
  "kernelspec": {
   "display_name": "Python [conda env:pyvizend] *",
   "language": "python",
   "name": "conda-env-pyvizend-py"
  },
  "language_info": {
   "codemirror_mode": {
    "name": "ipython",
    "version": 3
   },
   "file_extension": ".py",
   "mimetype": "text/x-python",
   "name": "python",
   "nbconvert_exporter": "python",
   "pygments_lexer": "ipython3",
   "version": "3.7.10"
  }
 },
 "nbformat": 4,
 "nbformat_minor": 5
}
