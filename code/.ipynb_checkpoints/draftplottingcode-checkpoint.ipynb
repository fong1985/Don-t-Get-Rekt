{
 "cells": [
  {
   "cell_type": "code",
   "execution_count": null,
   "id": "ae94681d",
   "metadata": {},
   "outputs": [],
   "source": [
    "\"\"\"\n",
    "import dependencies etc.\n",
    "\"\"\""
   ]
  },
  {
   "cell_type": "markdown",
   "id": "cc6ae933",
   "metadata": {},
   "source": [
    "### CSV FILES \n",
    "PRICE CSV = csv1\n",
    "VOLUME CSV = csv2\n",
    "VOLATILITY = csv3\n",
    "DAILY LIQUIDATION = csv4\n",
    "LARGEST LIQUIDATION = csv5\n",
    "OPEN INTEREST = csv6\n",
    "LONG SHORT = csv7\n"
   ]
  },
  {
   "cell_type": "markdown",
   "id": "ec0c6207",
   "metadata": {},
   "source": [
    "### GENERAL PLOTTING DATA"
   ]
  },
  {
   "cell_type": "code",
   "execution_count": null,
   "id": "fbed5037",
   "metadata": {},
   "outputs": [],
   "source": [
    "#something to parse the csvs faster\n",
    "def data (x):\n",
    "    x.reset_index(inplace = True),\n",
    "    x.set_index(\"Date\")\n",
    "    x.dropna(inplace = True)"
   ]
  },
  {
   "cell_type": "code",
   "execution_count": null,
   "id": "c258b7ec",
   "metadata": {},
   "outputs": [],
   "source": [
    "#PLOTTING PRICES\n",
    "prices = pd.readcsv(\"data/prices.csv\")\n",
    "#use if needed\n",
    "#infer_datetime_format=True, parse_dates=True\n",
    "prices.reset_index(inplace = True)\n",
    "prices.set_index(\"Date\")\n",
    "prices.dropna(inplace = True)\n",
    "plot_prices = prices.hvplot.area(x = \"Date\", y=\"Price\", label = \"Historic XBT Prices in USD Binance\", ylim = 75000, height = 900, width = 500)\n",
    "\n",
    "#PLOTTING AN OHLC FOR PRICES FROM THE LAST MONTH\n",
    "prices.iloc[-31].hvplot.ohlc(nel_color = \"indianred\", pos_color = \"lime\", line_color = \"gray\", bar_width = 1.1, grid=True)"
   ]
  },
  {
   "cell_type": "code",
   "execution_count": null,
   "id": "77b914c9",
   "metadata": {},
   "outputs": [],
   "source": [
    "#PLOTTING VOLUME\n",
    "volume = pd.readcsv(\"data/volume.csv\")\n",
    "#use if needed\n",
    "#infer_datetime_format=True, parse_dates=True\n",
    "volume.reset_index(inplace = True)\n",
    "volume.set_index(\"Date\")\n",
    "volume.dropna(inplace = True)\n",
    "volume.hvplot.area(x=\"Date\", y=\"Volume\", label = \"Historic Volume by Date Binance\", height = 600, width = 600)"
   ]
  },
  {
   "cell_type": "code",
   "execution_count": null,
   "id": "1dd5e335",
   "metadata": {},
   "outputs": [],
   "source": [
    "#PLOTTING OHLC FOR LAST YEAR\n",
    "#MERGE VOLUME AND PRICE\n",
    "prices_merged = prices.merge(volume, on = \"Date\", how = \"inner\")\n",
    "#plotting\n",
    "from holoviews.plotting.links import RangeToolLink\n",
    "prices_2021 = prices_merged[prices_merged.date > pd.to_datetime(\"2021\")]\n",
    "ohlc = prices_2021.hvplot.ohlc(ylabel = \"Price\", grid = True, xaxis = None)\n",
    "overview = prices_2021.hvplot.ohlc(yaxis = None, height = 150, fields = {\"date\":\"Date\"})\n",
    "volume1 = prices_2021.hvplot.step(\"date\", \"volume\", height = 100, xaxis = None)\n",
    "RangeToolLink(overview.get(0), ohlc.get(0))\n",
    "layout = (volume1 + ohlc + overview).cols(1)\n",
    "layout.opts(merge_tools = False)"
   ]
  },
  {
   "cell_type": "code",
   "execution_count": null,
   "id": "eae1da26",
   "metadata": {},
   "outputs": [],
   "source": [
    "#PLOTTING SMAS 30,90,180 SMA\n",
    "prices_plot = prices.hvplot()\n",
    "prices_30SMA = prices.rolling(window=30).mean().hvplot()\n",
    "prices_90SMA = prices.rolling(window = 90).mean().hvplot()\n",
    "price_180SMA = prices.rolling(window = 180).mean().hvplot()"
   ]
  },
  {
   "cell_type": "code",
   "execution_count": null,
   "id": "9a858f75",
   "metadata": {},
   "outputs": [],
   "source": [
    "#plotting std deviation movements\n",
    "prices.rolling(window=30).std().hvlot()\n",
    "prices.rolling(window=90).std().hvlot()\n",
    "prices.rolling(window=180).std().hvlot()"
   ]
  },
  {
   "cell_type": "code",
   "execution_count": null,
   "id": "9d439585",
   "metadata": {},
   "outputs": [],
   "source": [
    "#Calculating Volatility\n",
    "#Sharpe Ratio\n",
    "sharpe_ratio = prices.mean()/prices.std()\n",
    "sharpe_ratio.hvplot(x = \"Bitcoin\", y = \"Sharpe Ratio\", label = \"Bitcoin Sharpe Ratio from 2017-2021\", height = 600, width = 400)"
   ]
  },
  {
   "cell_type": "code",
   "execution_count": null,
   "id": "3f972647",
   "metadata": {},
   "outputs": [],
   "source": [
    "#plotting daily liquidations\n",
    "daily_liqs = pd.readcsv(\"data/liquidations.csv\")\n",
    "#use if needed\n",
    "#infer_datetime_format=True, parse_dates=True\n",
    "daily_liqs.reset_index(inplace = True)\n",
    "daily_liqs.set_index(\"Date\")\n",
    "daily_liqs.dropna(inplace = True)\n",
    "daily_liqs.hvplot.step(x = \"Historic XBT Liquidations on Binance\", y = \"Amount Liquidated\", legend = \"top\", height = 800, width = 1200)"
   ]
  },
  {
   "cell_type": "code",
   "execution_count": null,
   "id": "63f5b24d",
   "metadata": {},
   "outputs": [],
   "source": [
    "#plotting distrubtion and spread of liquidations using a KDE plot\n",
    "daily_liqs.hvplot.kde()"
   ]
  },
  {
   "cell_type": "code",
   "execution_count": null,
   "id": "afa61361",
   "metadata": {},
   "outputs": [],
   "source": [
    "#plotting liquidation data using KDE plot, separated by year, this should give us a view on whether the increase of price from 2017 to 2021 has increased total amount liquidated\n",
    "import numpy as np\n",
    "import colorcet as cc\n",
    "categorical_cmap = [cc.rainbow[int(x)] for x in np.linspace(0, 255, 12)]\n",
    "daily_liqs.hvplot.kde(by=\"time.year\", cmap = categorical_cmap, legend = \"top\", height = 700)"
   ]
  },
  {
   "cell_type": "code",
   "execution_count": null,
   "id": "a27c81e6",
   "metadata": {},
   "outputs": [],
   "source": [
    "#plotting the largest liquidations\n",
    "\"\"\"\n",
    "depending on how data collection goes, ill either plot it normally as above, or have to get it from liquidation data\n",
    "\"\"\""
   ]
  },
  {
   "cell_type": "code",
   "execution_count": null,
   "id": "c138d530",
   "metadata": {},
   "outputs": [],
   "source": [
    "#plotting open interest\n",
    "open_interest = pd.read_csv(\"data/open_interest.csv\")\n",
    "data (open_interest)\n",
    "open_interest.hvplot.step(x = \"Time\", y = \"Positions Opened\", legend = \"top\", height = 700, width = 1200)"
   ]
  },
  {
   "cell_type": "code",
   "execution_count": null,
   "id": "2542cb7f",
   "metadata": {},
   "outputs": [],
   "source": [
    "#plotting open interest with a KDE to graph density\n",
    "open_interest.hvplot.kde()"
   ]
  },
  {
   "cell_type": "code",
   "execution_count": null,
   "id": "c3eb7e84",
   "metadata": {},
   "outputs": [],
   "source": [
    "#plotting density of open interest by year\n",
    "#using the categorical cmap from before\n",
    "categorical_cmap = [cc.rainbow[int(x)] for x in np.linspace(0, 255, 12)]\n",
    "open_interest.hvplot.kde(by='time.year', cmap = categorical_cmap, legend = \"top\", height = 700)\n"
   ]
  },
  {
   "cell_type": "code",
   "execution_count": null,
   "id": "d7f4788a",
   "metadata": {},
   "outputs": [],
   "source": [
    "#plotting long/short positions\n",
    "positions = pd.read_csv(\"data/long_short_positions.csv\")\n",
    "data (positions)\n",
    "grouped_positions = positions.groupby([\"Date\", \"Long\", \"Short\"]).mean()\n",
    "grouped_positions.hvplot.bar(stacked = True, height = 900, legend = \"top\")"
   ]
  },
  {
   "cell_type": "markdown",
   "id": "6e052727",
   "metadata": {},
   "source": [
    "### SEPARATOR #####################################################"
   ]
  },
  {
   "cell_type": "markdown",
   "id": "b0c59ad2",
   "metadata": {},
   "source": [
    "### MORE SPECIFIC GRAPHS PLOTTING AROUND 2017-2018 CRASH"
   ]
  },
  {
   "cell_type": "code",
   "execution_count": null,
   "id": "f73e8e0b",
   "metadata": {},
   "outputs": [],
   "source": [
    "#prices\n",
    "prices['Date'] = pd.to_datetime(prices[\"Date\"])\n",
    "prices_2017 = prices.[prices[\"Date\"].dtyear == [2017,2018]]\n",
    "prices_2017.hvplot(label = \"Prices during 2017-2018 XBT Crash\")\n"
   ]
  },
  {
   "cell_type": "code",
   "execution_count": null,
   "id": "19be3944",
   "metadata": {},
   "outputs": [],
   "source": [
    "#volume\n",
    "volume[\"Date\"] = pd.to_datetime(volume[\"Date\"])\n",
    "volume_2017 = volume.[prices[\"Date\"].dtyear == [2017,2018]]\n",
    "volume_2017.hvplot.area(x=\"Date\", y=\"Volume\", label = \"Volume during 2017-2018 XBT Crash\", height = 600, width = 600)"
   ]
  },
  {
   "cell_type": "code",
   "execution_count": null,
   "id": "78ba6536",
   "metadata": {},
   "outputs": [],
   "source": [
    "#PLOTTING OHLC FOR 2017\n",
    "#MERGE VOLUME AND PRICE\n",
    "prices_2017_merged = prices_2017.merge(volume_2017, on = \"Date\", how = \"inner\")\n",
    "#plotting\n",
    "from holoviews.plotting.links import RangeToolLink\n",
    "ohlc_2017 = prices_2017.hvplot.ohlc(ylabel = \"Price\", grid = True, xaxis = None)\n",
    "overview_2017 = prices_2017.hvplot.ohlc(yaxis = None, height = 150, fields = {\"date\":\"Date\"})\n",
    "volume2017 = prices_2017.hvplot.step(\"date\", \"Volume\", height = 100, xaxis = None)\n",
    "RangeToolLink(overview.get(0), ohlc.get(0))\n",
    "layout = (volume1 + ohlc + overview).cols(1)\n",
    "layout.opts(merge_tools = False)"
   ]
  },
  {
   "cell_type": "code",
   "execution_count": null,
   "id": "6cf9b5d7",
   "metadata": {},
   "outputs": [],
   "source": [
    "#Daily Liquidations for 2017-2018\n",
    "daily_liqs[\"Date\"] = pd.to_datetime()\n",
    "daily_liqs_2017 = daily_liqs.[daily_liqs[\"Date\"].dtyear == [2017,2018]]\n",
    "daily_liqs_2017.hvplot.step(x = \"XBT Liquidations from 2017-2018\", y = \"Amount Liquidated\", legend = \"top\", height = 800, width = 1200)"
   ]
  },
  {
   "cell_type": "code",
   "execution_count": null,
   "id": "56da7b1a",
   "metadata": {},
   "outputs": [],
   "source": [
    "daily_liqs_2017.hvplot.kde()"
   ]
  },
  {
   "cell_type": "code",
   "execution_count": null,
   "id": "ba0bba7b",
   "metadata": {},
   "outputs": [],
   "source": [
    "categorical_cmap = [cc.rainbow[int(x)] for x in np.linspace(0, 255, 12)]\n",
    "daily_liqs_2017.hvplot.kde(by=\"time.month\", cmap = categorical_cmap, legend = \"top\", height = 700)"
   ]
  },
  {
   "cell_type": "code",
   "execution_count": null,
   "id": "8eaea8b9",
   "metadata": {},
   "outputs": [],
   "source": [
    "#stacked bar of liquidations\n",
    "grouped_liquidations_2017 = daily_liqs_2017.groupby([\"Date\", \"Longs\", \"Short\"]).mean()\n",
    "grouped_liquidations_2017.hvplot.bar(stacked = True, height = 900, legend = \"top_left\")"
   ]
  },
  {
   "cell_type": "code",
   "execution_count": null,
   "id": "af47a733",
   "metadata": {},
   "outputs": [],
   "source": [
    "#liquidations vs. price movement\n",
    "import altair as alt \n",
    "merged_2017 = prices_2017.merge(daily_liqs_2017, on = \"Date\", how = \"inner\")\n",
    "source = merged_2017()\n",
    "base = alt.Chart(source).encode(x='Date')\n",
    "bar = base.mark_bar().encode(y='Liquidations')\n",
    "line =  base.mark_line(color='red').encode(\n",
    "    y='Price'\n",
    ")\n",
    "(bar + line).properties(width=600)"
   ]
  },
  {
   "cell_type": "markdown",
   "id": "3b44db27",
   "metadata": {},
   "source": [
    "### 2021 Crash"
   ]
  },
  {
   "cell_type": "code",
   "execution_count": null,
   "id": "589926fb",
   "metadata": {},
   "outputs": [],
   "source": [
    "prices['Date'] = pd.to_datetime(prices[\"Date\"])\n",
    "prices_recent = prices.[prices[\"Date\"].dtyear == [2021]]\n",
    "prices_recent.hvplot(label = \"Prices during 2021 May XBT Crash\")"
   ]
  },
  {
   "cell_type": "code",
   "execution_count": null,
   "id": "8c53bcf8",
   "metadata": {},
   "outputs": [],
   "source": [
    "volume[\"Date\"] = pd.to_datetime(volume[\"Date\"])\n",
    "volume_recent = volume.[prices[\"Date\"].dtyear == [2021]]\n",
    "volume_recent.hvplot.area(x=\"Date\", y=\"Volume\", label = \"Volume during 2021 May XBT Crash\", height = 600, width = 600)"
   ]
  },
  {
   "cell_type": "code",
   "execution_count": null,
   "id": "e0c7c00d",
   "metadata": {},
   "outputs": [],
   "source": [
    "#PLOTTING OHLC FOR 2021\n",
    "#MERGE VOLUME AND PRICE\n",
    "prices_2021_merged = prices_recent.merge(volume_recent, on = \"Date\", how = \"inner\")\n",
    "#plotting\n",
    "from holoviews.plotting.links import RangeToolLink\n",
    "ohlc_recent = prices_recent.hvplot.ohlc(ylabel = \"Price\", grid = True, xaxis = None)\n",
    "overview_recent = prices_recent.hvplot.ohlc(yaxis = None, height = 150, fields = {\"date\":\"Date\"})\n",
    "volumerecent = prices_recent.hvplot.step(\"date\", \"Volume\", height = 100, xaxis = None)\n",
    "RangeToolLink(overview.get(0), ohlc.get(0))\n",
    "layout = (volumerecent + ohlc + overview).cols(1)\n",
    "layout.opts(merge_tools = False)"
   ]
  },
  {
   "cell_type": "code",
   "execution_count": null,
   "id": "ce526c96",
   "metadata": {},
   "outputs": [],
   "source": [
    "#Daily Liquidations for 2021\n",
    "daily_liqs[\"Date\"] = pd.to_datetime()\n",
    "daily_liqs_recent = daily_liqs.[daily_liqs[\"Date\"].dtyear == [2021]]\n",
    "daily_liqs_recent.hvplot.step(x = \"XBT Liquidations from 2021 May Crash\", y = \"Amount Liquidated\", legend = \"top\", height = 800, width = 1200)"
   ]
  },
  {
   "cell_type": "code",
   "execution_count": null,
   "id": "d17e666f",
   "metadata": {},
   "outputs": [],
   "source": [
    "daily_liqs_recent.hvplot.kde()"
   ]
  },
  {
   "cell_type": "code",
   "execution_count": null,
   "id": "0cc5dc28",
   "metadata": {},
   "outputs": [],
   "source": [
    "categorical_cmap = [cc.rainbow[int(x)] for x in np.linspace(0, 255, 12)]\n",
    "daily_liqs_recent.hvplot.kde(by=\"time.month\", cmap = categorical_cmap, legend = \"top\", height = 700)"
   ]
  },
  {
   "cell_type": "code",
   "execution_count": null,
   "id": "220e1c55",
   "metadata": {},
   "outputs": [],
   "source": [
    "#stacked bar of liquidations\n",
    "grouped_liquidations_recent = daily_liqs_recent.groupby([\"Date\", \"Longs\", \"Short\"]).mean()\n",
    "grouped_liquidations_recent.hvplot.bar(stacked = True, height = 900, legend = \"top_left\")"
   ]
  },
  {
   "cell_type": "code",
   "execution_count": null,
   "id": "9ce945e6",
   "metadata": {},
   "outputs": [],
   "source": [
    "import altair as alt \n",
    "merged_2021 = prices_recent.merge(daily_liqs_recent, on = \"Date\", how = \"inner\")\n",
    "source = merged_2021()\n",
    "base = alt.Chart(source).encode(x='Date')\n",
    "bar = base.mark_bar().encode(y='Liquidations')\n",
    "line =  base.mark_line(color='red').encode(\n",
    "    y='Price'\n",
    ")\n",
    "(bar + line).properties(width=600)"
   ]
  }
 ],
 "metadata": {
  "kernelspec": {
   "display_name": "Python [conda env:pyvizend] *",
   "language": "python",
   "name": "conda-env-pyvizend-py"
  },
  "language_info": {
   "codemirror_mode": {
    "name": "ipython",
    "version": 3
   },
   "file_extension": ".py",
   "mimetype": "text/x-python",
   "name": "python",
   "nbconvert_exporter": "python",
   "pygments_lexer": "ipython3",
   "version": "3.7.10"
  }
 },
 "nbformat": 4,
 "nbformat_minor": 5
}
