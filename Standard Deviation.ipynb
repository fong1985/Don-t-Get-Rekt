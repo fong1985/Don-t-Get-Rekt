{
 "cells": [
  {
   "cell_type": "code",
   "execution_count": 1,
   "id": "4034b449-ff47-40e1-948d-cbbf2b2a47c9",
   "metadata": {},
   "outputs": [],
   "source": [
    "import pandas as pd\n",
    "import numpy as np\n",
    "import datetime as dt\n",
    "import seaborn as sns\n",
    "from pathlib import Path\n",
    "import matplotlib.pyplot as plt\n"
   ]
  },
  {
   "cell_type": "code",
   "execution_count": 2,
   "id": "0f276aef-af44-4493-ae2a-7057cc9f2a5c",
   "metadata": {},
   "outputs": [
    {
     "data": {
      "text/html": [
       "<div>\n",
       "<style scoped>\n",
       "    .dataframe tbody tr th:only-of-type {\n",
       "        vertical-align: middle;\n",
       "    }\n",
       "\n",
       "    .dataframe tbody tr th {\n",
       "        vertical-align: top;\n",
       "    }\n",
       "\n",
       "    .dataframe thead th {\n",
       "        text-align: right;\n",
       "    }\n",
       "</style>\n",
       "<table border=\"1\" class=\"dataframe\">\n",
       "  <thead>\n",
       "    <tr style=\"text-align: right;\">\n",
       "      <th></th>\n",
       "      <th>Price (USD)</th>\n",
       "      <th>open</th>\n",
       "      <th>high</th>\n",
       "      <th>low</th>\n",
       "      <th>Vol.</th>\n",
       "      <th>tradecount</th>\n",
       "      <th>Daily Change</th>\n",
       "    </tr>\n",
       "    <tr>\n",
       "      <th>Date</th>\n",
       "      <th></th>\n",
       "      <th></th>\n",
       "      <th></th>\n",
       "      <th></th>\n",
       "      <th></th>\n",
       "      <th></th>\n",
       "      <th></th>\n",
       "    </tr>\n",
       "  </thead>\n",
       "  <tbody>\n",
       "    <tr>\n",
       "      <th>2017-08-17</th>\n",
       "      <td>4285.08</td>\n",
       "      <td>4469.93</td>\n",
       "      <td>4485.39</td>\n",
       "      <td>4200.74</td>\n",
       "      <td>2812379.11</td>\n",
       "      <td>NaN</td>\n",
       "      <td>0.000000</td>\n",
       "    </tr>\n",
       "    <tr>\n",
       "      <th>2017-08-18</th>\n",
       "      <td>4108.37</td>\n",
       "      <td>4285.08</td>\n",
       "      <td>4371.52</td>\n",
       "      <td>3938.77</td>\n",
       "      <td>4994493.56</td>\n",
       "      <td>NaN</td>\n",
       "      <td>-0.041238</td>\n",
       "    </tr>\n",
       "    <tr>\n",
       "      <th>2017-08-19</th>\n",
       "      <td>4139.98</td>\n",
       "      <td>4108.37</td>\n",
       "      <td>4184.69</td>\n",
       "      <td>3850.00</td>\n",
       "      <td>1508239.39</td>\n",
       "      <td>NaN</td>\n",
       "      <td>0.007694</td>\n",
       "    </tr>\n",
       "    <tr>\n",
       "      <th>2017-08-20</th>\n",
       "      <td>4086.29</td>\n",
       "      <td>4139.98</td>\n",
       "      <td>4211.08</td>\n",
       "      <td>4032.62</td>\n",
       "      <td>1915636.35</td>\n",
       "      <td>NaN</td>\n",
       "      <td>-0.012969</td>\n",
       "    </tr>\n",
       "    <tr>\n",
       "      <th>2017-08-21</th>\n",
       "      <td>4016.00</td>\n",
       "      <td>4086.29</td>\n",
       "      <td>4119.62</td>\n",
       "      <td>3911.79</td>\n",
       "      <td>2770592.06</td>\n",
       "      <td>NaN</td>\n",
       "      <td>-0.017201</td>\n",
       "    </tr>\n",
       "  </tbody>\n",
       "</table>\n",
       "</div>"
      ],
      "text/plain": [
       "            Price (USD)     open     high      low        Vol.  tradecount  \\\n",
       "Date                                                                         \n",
       "2017-08-17      4285.08  4469.93  4485.39  4200.74  2812379.11         NaN   \n",
       "2017-08-18      4108.37  4285.08  4371.52  3938.77  4994493.56         NaN   \n",
       "2017-08-19      4139.98  4108.37  4184.69  3850.00  1508239.39         NaN   \n",
       "2017-08-20      4086.29  4139.98  4211.08  4032.62  1915636.35         NaN   \n",
       "2017-08-21      4016.00  4086.29  4119.62  3911.79  2770592.06         NaN   \n",
       "\n",
       "            Daily Change  \n",
       "Date                      \n",
       "2017-08-17      0.000000  \n",
       "2017-08-18     -0.041238  \n",
       "2017-08-19      0.007694  \n",
       "2017-08-20     -0.012969  \n",
       "2017-08-21     -0.017201  "
      ]
     },
     "execution_count": 2,
     "metadata": {},
     "output_type": "execute_result"
    }
   ],
   "source": [
    "# Reading bitcoin's value\n",
    "btc_csv = Path(\"BTC Value.csv\")\n",
    "btc_df = pd.read_csv(btc_csv,infer_datetime_format = True)\n",
    "btc_df.sort_values(by='Date',ascending=True) #nani\n",
    "btc_df['Date'] = pd.to_datetime(btc_df[\"Date\"], dayfirst = True)\n",
    "btc_df = btc_df.set_index(\"Date\")\n",
    "\n",
    "\n",
    "btc_df.head()\n",
    "\n"
   ]
  },
  {
   "cell_type": "code",
   "execution_count": 3,
   "id": "888748c7-d493-4aa0-8ae7-6c2936654989",
   "metadata": {},
   "outputs": [
    {
     "name": "stdout",
     "output_type": "stream",
     "text": [
      "\u001b[1mBitcoin daily change data between 2017-08-17 and 2017-12-22\u001b[0m\n",
      "\n",
      "Support of the period: 3189.02\n",
      "\n",
      "Resistance of the period: 19102.66\n",
      "\n",
      "Mean of the daily changes: 0.010431413410344788\n",
      "\n",
      "Standard Deviation of the daily changes: 0.05580689801413704\n",
      "\n",
      "Sharpe Ratio (with a risk free rate of 1.8%): 0.18355522943353086\n",
      "\n",
      "[[<AxesSubplot:title={'center':'Price (USD)'}>]]\n"
     ]
    },
    {
     "data": {
      "image/png": "[encoded data removed]",
      "text/plain": [
       "<Figure size 432x288 with 1 Axes>"
      ]
     },
     "metadata": {
      "needs_background": "light"
     },
     "output_type": "display_data"
    }
   ],
   "source": [
    "# Define period 1\n",
    "btc_period_1_start = '2017-08-17'\n",
    "btc_period_1_finish = '2017-12-22'\n",
    "\n",
    "\n",
    "# Deliminate the period\n",
    "btc_df_period_1 = btc_df.loc[btc_period_1_start:btc_period_1_finish]\n",
    "\n",
    "#Calculate the Support and Resistance of Period:\n",
    "btc_support_1 = btc_df_period_1['Price (USD)'].min()\n",
    "btc_resistance_1 = btc_df_period_1['Price (USD)'].max()\n",
    "\n",
    "\n",
    "# Calculate the percentage change of the price of BTC\n",
    "btc_df_period_1_dc = btc_df_period_1.pct_change()\n",
    "\n",
    "# Calculate the Standard Deviation of the Percantage Change of the price of BTC\n",
    "btc_df_period_1_dc_sd = btc_df_period_1_dc['Price (USD)'].std()\n",
    "\n",
    "# Calculate the Mean of the Percantage Change of the price of BTC\n",
    "btc_df_period_1_dc_mean = btc_df_period_1_dc['Price (USD)'].mean()\n",
    "\n",
    "# Calculate the Sharpe Ratio. Assuming a risk free rate of 1.8%\n",
    "btc_df_period_1_dc_sharp_ratio = (btc_df_period_1_dc_mean * (1-0.018) ) / btc_df_period_1_dc_sd\n",
    "\n",
    "\n",
    "\n",
    "print(\"\\33[1m\" + \"Bitcoin daily change data between \"+ btc_period_1_start + \" and \" + btc_period_1_finish + \"\\33[0m\")\n",
    "print()\n",
    "print(\"Support of the period: \" + str(btc_support_1))\n",
    "print()\n",
    "print(\"Resistance of the period: \" + str(btc_resistance_1))\n",
    "print()\n",
    "print(\"Mean of the daily changes: \" + str(btc_df_period_1_dc_mean)) \n",
    "print()\n",
    "print(\"Standard Deviation of the daily changes: \" + str(btc_df_period_1_dc_sd))\n",
    "print()\n",
    "print(\"Sharpe Ratio (with a risk free rate of 1.8%): \" + str(btc_df_period_1_dc_sharp_ratio))\n",
    "print()\n",
    "print(btc_df_period_1_dc.hist('Price (USD)'))"
   ]
  },
  {
   "cell_type": "code",
   "execution_count": 4,
   "id": "22f97067-8fb2-4a68-9772-7132ecc7fa0e",
   "metadata": {},
   "outputs": [
    {
     "name": "stdout",
     "output_type": "stream",
     "text": [
      "\u001b[1mBitcoin daily change data between 2017-12-23 and 2018-12-07\u001b[0m\n",
      "\n",
      "Support of the period: 3403.55\n",
      "\n",
      "Resistance of the period: 17069.79\n",
      "\n",
      "Mean of the daily changes: -0.0028822425734309326\n",
      "\n",
      "Standard Deviation of the daily changes: 0.04481404815982393\n",
      "\n",
      "Sharpe Ratio (with a risk free rate of 1.8%): -0.06315792309177311\n",
      "\n",
      "[[<AxesSubplot:title={'center':'Price (USD)'}>]]\n"
     ]
    },
    {
     "data": {
      "image/png": "[encoded data removed]",
      "text/plain": [
       "<Figure size 432x288 with 1 Axes>"
      ]
     },
     "metadata": {
      "needs_background": "light"
     },
     "output_type": "display_data"
    }
   ],
   "source": [
    "# Define period 2\n",
    "btc_period_2_start = '2017-12-23'\n",
    "btc_period_2_finish = '2018-12-07'\n",
    "\n",
    "\n",
    "# Deliminate the period\n",
    "btc_df_period_2 = btc_df.loc[btc_period_2_start:btc_period_2_finish]\n",
    "\n",
    "#Calculate the Support and Resistance of Period:\n",
    "btc_support_2 = btc_df_period_2['Price (USD)'].min()\n",
    "btc_resistance_2 = btc_df_period_2['Price (USD)'].max()\n",
    "\n",
    "\n",
    "# Calculate the percentage change of the price of BTC\n",
    "btc_df_period_2_dc = btc_df_period_2.pct_change()\n",
    "\n",
    "# Calculate the Standard Deviation of the Percantage Change of the price of BTC\n",
    "btc_df_period_2_dc_sd = btc_df_period_2_dc['Price (USD)'].std()\n",
    "\n",
    "# Calculate the Mean of the Percantage Change of the price of BTC\n",
    "btc_df_period_2_dc_mean = btc_df_period_2_dc['Price (USD)'].mean()\n",
    "\n",
    "# Calculate the Sharpe Ratio. Assuming a risk free rate of 1.8%\n",
    "btc_df_period_2_dc_sharp_ratio = (btc_df_period_2_dc_mean * (1-0.018) ) / btc_df_period_2_dc_sd\n",
    "\n",
    "\n",
    "\n",
    "\n",
    "print(\"\\33[1m\" + \"Bitcoin daily change data between \"+ btc_period_2_start + \" and \" + btc_period_2_finish + \"\\33[0m\")\n",
    "print()\n",
    "print(\"Support of the period: \" + str(btc_support_2))\n",
    "print()\n",
    "print(\"Resistance of the period: \" + str(btc_resistance_2))\n",
    "print()\n",
    "print(\"Mean of the daily changes: \" + str(btc_df_period_2_dc_mean)) \n",
    "print()\n",
    "print(\"Standard Deviation of the daily changes: \" + str(btc_df_period_2_dc_sd))\n",
    "print()\n",
    "print(\"Sharpe Ratio (with a risk free rate of 1.8%): \" + str(btc_df_period_2_dc_sharp_ratio))\n",
    "print()\n",
    "print(btc_df_period_2_dc.hist('Price (USD)'))"
   ]
  },
  {
   "cell_type": "code",
   "execution_count": 5,
   "id": "58a9835f-6f78-4488-8a7b-4b4dbe3a24fc",
   "metadata": {},
   "outputs": [
    {
     "name": "stdout",
     "output_type": "stream",
     "text": [
      "\u001b[1mBitcoin daily change data between 2018-12-08 and 2020-03-16\u001b[0m\n",
      "\n",
      "Support of the period: 3211.72\n",
      "\n",
      "Resistance of the period: 13093.8\n",
      "\n",
      "Mean of the daily changes: 0.0017257344559216876\n",
      "\n",
      "Standard Deviation of the daily changes: 0.040865085466926236\n",
      "\n",
      "Sharpe Ratio (with a risk free rate of 1.8%): 0.0414699055771378\n",
      "\n",
      "[[<AxesSubplot:title={'center':'Price (USD)'}>]]\n"
     ]
    },
    {
     "data": {
      "image/png": "[encoded data removed]",
      "text/plain": [
       "<Figure size 432x288 with 1 Axes>"
      ]
     },
     "metadata": {
      "needs_background": "light"
     },
     "output_type": "display_data"
    }
   ],
   "source": [
    "# Define period 3\n",
    "btc_period_3_start = '2018-12-08'\n",
    "btc_period_3_finish = '2020-03-16'\n",
    "\n",
    "\n",
    "# Deliminate the period\n",
    "btc_df_period_3 = btc_df.loc[btc_period_3_start:btc_period_3_finish]\n",
    "\n",
    "#Calculate the Support and Resistance of Period:\n",
    "btc_support_3 = btc_df_period_3['Price (USD)'].min()\n",
    "btc_resistance_3 = btc_df_period_3['Price (USD)'].max()\n",
    "\n",
    "\n",
    "# Calculate the percentage change of the price of BTC\n",
    "btc_df_period_3_dc = btc_df_period_3.pct_change()\n",
    "\n",
    "# Calculate the Standard Deviation of the Percantage Change of the price of BTC\n",
    "btc_df_period_3_dc_sd = btc_df_period_3_dc['Price (USD)'].std()\n",
    "\n",
    "# Calculate the Mean of the Percantage Change of the price of BTC\n",
    "btc_df_period_3_dc_mean = btc_df_period_3_dc['Price (USD)'].mean()\n",
    "\n",
    "# Calculate the Sharpe Ratio. Assuming a risk free rate of 1.8%\n",
    "btc_df_period_3_dc_sharp_ratio = (btc_df_period_3_dc_mean * (1-0.018) ) / btc_df_period_3_dc_sd\n",
    "\n",
    "\n",
    "\n",
    "print(\"\\33[1m\" + \"Bitcoin daily change data between \"+ btc_period_3_start + \" and \" + btc_period_3_finish + \"\\33[0m\")\n",
    "print()\n",
    "print(\"Support of the period: \" + str(btc_support_3))\n",
    "print()\n",
    "print(\"Resistance of the period: \" + str(btc_resistance_3))\n",
    "print()\n",
    "print(\"Mean of the daily changes: \" + str(btc_df_period_3_dc_mean)) \n",
    "print()\n",
    "print(\"Standard Deviation of the daily changes: \" + str(btc_df_period_3_dc_sd))\n",
    "print()\n",
    "print(\"Sharpe Ratio (with a risk free rate of 1.8%): \" + str(btc_df_period_3_dc_sharp_ratio))\n",
    "print()\n",
    "print(btc_df_period_3_dc.hist('Price (USD)'))"
   ]
  },
  {
   "cell_type": "code",
   "execution_count": 6,
   "id": "247a8bb8-406d-4ed3-b951-550bdb6b8820",
   "metadata": {},
   "outputs": [
    {
     "name": "stdout",
     "output_type": "stream",
     "text": [
      "\u001b[1mBitcoin daily change data between 2020-03-17 and 2021-02-08\u001b[0m\n",
      "\n",
      "Support of the period: 5312.64\n",
      "\n",
      "Resistance of the period: 46374.87\n",
      "\n",
      "Mean of the daily changes: 0.007285115794686048\n",
      "\n",
      "Standard Deviation of the daily changes: 0.03669651708449733\n",
      "\n",
      "Sharpe Ratio (with a risk free rate of 1.8%): 0.19494993745343597\n",
      "\n",
      "[[<AxesSubplot:title={'center':'Price (USD)'}>]]\n"
     ]
    },
    {
     "data": {
      "image/png": "[encoded data removed]",
      "text/plain": [
       "<Figure size 432x288 with 1 Axes>"
      ]
     },
     "metadata": {
      "needs_background": "light"
     },
     "output_type": "display_data"
    }
   ],
   "source": [
    "# Define period 4\n",
    "btc_period_4_start = '2020-03-17'\n",
    "btc_period_4_finish = '2021-02-08'\n",
    "\n",
    "\n",
    "# Deliminate the period\n",
    "btc_df_period_4 = btc_df.loc[btc_period_4_start:btc_period_4_finish]\n",
    "\n",
    "#Calculate the Support and Resistance of Period:\n",
    "btc_support_4 = btc_df_period_4['Price (USD)'].min()\n",
    "btc_resistance_4 = btc_df_period_4['Price (USD)'].max()\n",
    "\n",
    "\n",
    "# Calculate the percentage change of the price of BTC\n",
    "btc_df_period_4_dc = btc_df_period_4.pct_change()\n",
    "\n",
    "# Calculate the Standard Deviation of the Percantage Change of the price of BTC\n",
    "btc_df_period_4_dc_sd = btc_df_period_4_dc['Price (USD)'].std()\n",
    "\n",
    "# Calculate the Mean of the Percantage Change of the price of BTC\n",
    "btc_df_period_4_dc_mean = btc_df_period_4_dc['Price (USD)'].mean()\n",
    "\n",
    "# Calculate the Sharpe Ratio. Assuming a risk free rate of 1.8%\n",
    "btc_df_period_4_dc_sharp_ratio = (btc_df_period_4_dc_mean * (1-0.018) ) / btc_df_period_4_dc_sd\n",
    "\n",
    "\n",
    "\n",
    "print(\"\\33[1m\" + \"Bitcoin daily change data between \"+ btc_period_4_start + \" and \" + btc_period_4_finish + \"\\33[0m\")\n",
    "print()\n",
    "print(\"Support of the period: \" + str(btc_support_4))\n",
    "print()\n",
    "print(\"Resistance of the period: \" + str(btc_resistance_4))\n",
    "print()\n",
    "print(\"Mean of the daily changes: \" + str(btc_df_period_4_dc_mean)) \n",
    "print()\n",
    "print(\"Standard Deviation of the daily changes: \" + str(btc_df_period_4_dc_sd))\n",
    "print()\n",
    "print(\"Sharpe Ratio (with a risk free rate of 1.8%): \" + str(btc_df_period_4_dc_sharp_ratio))\n",
    "print()\n",
    "print(btc_df_period_4_dc.hist('Price (USD)'))"
   ]
  },
  {
   "cell_type": "code",
   "execution_count": 7,
   "id": "cebac5b1-b0b0-474c-87a6-57cfcc44e9ca",
   "metadata": {},
   "outputs": [
    {
     "name": "stdout",
     "output_type": "stream",
     "text": [
      "\u001b[1mBitcoin daily change data between 2021-02-09 and 2021-05-19\u001b[0m\n",
      "\n",
      "Support of the period: 36690.09\n",
      "\n",
      "Resistance of the period: 63575.0\n",
      "\n",
      "Mean of the daily changes: -0.0014747377955059275\n",
      "\n",
      "Standard Deviation of the daily changes: 0.042362498100072796\n",
      "\n",
      "Sharpe Ratio (with a risk free rate of 1.8%): -0.03418572039273416\n",
      "\n",
      "[[<AxesSubplot:title={'center':'Price (USD)'}>]]\n"
     ]
    },
    {
     "data": {
      "image/png": "[encoded data removed]",
      "text/plain": [
       "<Figure size 432x288 with 1 Axes>"
      ]
     },
     "metadata": {
      "needs_background": "light"
     },
     "output_type": "display_data"
    }
   ],
   "source": [
    "# Define period 5\n",
    "btc_period_5_start = '2021-02-09'\n",
    "btc_period_5_finish = '2021-05-19'\n",
    "\n",
    "# Deliminate the period\n",
    "btc_df_period_5 = btc_df.loc[btc_period_5_start:btc_period_5_finish]\n",
    "\n",
    "#Calculate the Support and Resistance of Period:\n",
    "btc_support_5 = btc_df_period_5['Price (USD)'].min()\n",
    "btc_resistance_5 = btc_df_period_5['Price (USD)'].max()\n",
    "\n",
    "\n",
    "# Calculate the percentage change of the price of BTC\n",
    "btc_df_period_5_dc = btc_df_period_5.pct_change()\n",
    "\n",
    "# Calculate the Standard Deviation of the Percantage Change of the price of BTC\n",
    "btc_df_period_5_dc_sd = btc_df_period_5_dc['Price (USD)'].std()\n",
    "\n",
    "# Calculate the Mean of the Percantage Change of the price of BTC\n",
    "btc_df_period_5_dc_mean = btc_df_period_5_dc['Price (USD)'].mean()\n",
    "\n",
    "# Calculate the Sharpe Ratio. Assuming a risk free rate of 1.8%\n",
    "btc_df_period_5_dc_sharp_ratio = (btc_df_period_5_dc_mean * (1-0.018) ) / btc_df_period_5_dc_sd\n",
    "\n",
    "\n",
    "\n",
    "print(\"\\33[1m\" + \"Bitcoin daily change data between \"+ btc_period_5_start + \" and \" + btc_period_5_finish + \"\\33[0m\")\n",
    "print()\n",
    "print(\"Support of the period: \" + str(btc_support_5))\n",
    "print()\n",
    "print(\"Resistance of the period: \" + str(btc_resistance_5))\n",
    "print()\n",
    "print(\"Mean of the daily changes: \" + str(btc_df_period_5_dc_mean)) \n",
    "print()\n",
    "print(\"Standard Deviation of the daily changes: \" + str(btc_df_period_5_dc_sd))\n",
    "print()\n",
    "print(\"Sharpe Ratio (with a risk free rate of 1.8%): \" + str(btc_df_period_5_dc_sharp_ratio))\n",
    "print()\n",
    "print(btc_df_period_5_dc.hist('Price (USD)'))"
   ]
  },
  {
   "cell_type": "code",
   "execution_count": 8,
   "id": "1f4298f7-4cb0-41d2-8118-f685677668b3",
   "metadata": {},
   "outputs": [
    {
     "name": "stdout",
     "output_type": "stream",
     "text": [
      "\u001b[1mBitcoin daily change data between 2021-05-20 and 2021-10-20\u001b[0m\n",
      "\n",
      "Support of the period: 29790.35\n",
      "\n",
      "Resistance of the period: 66001.41\n",
      "\n",
      "Mean of the daily changes: 0.004018384254268833\n",
      "\n",
      "Standard Deviation of the daily changes: 0.04079927776851796\n",
      "\n",
      "Sharpe Ratio (with a risk free rate of 1.8%): 0.09671870566142463\n",
      "\n",
      "[[<AxesSubplot:title={'center':'Price (USD)'}>]]\n"
     ]
    },
    {
     "data": {
      "image/png": "[encoded data removed]",
      "text/plain": [
       "<Figure size 432x288 with 1 Axes>"
      ]
     },
     "metadata": {
      "needs_background": "light"
     },
     "output_type": "display_data"
    }
   ],
   "source": [
    "# Define period 6\n",
    "btc_period_6_start = '2021-05-20'\n",
    "btc_period_6_finish = '2021-10-20'\n",
    "\n",
    "# Deliminate the period\n",
    "btc_df_period_6 = btc_df.loc[btc_period_6_start:btc_period_6_finish]\n",
    "\n",
    "#Calculate the Support and Resistance of Period:\n",
    "btc_support_6 = btc_df_period_6['Price (USD)'].min()\n",
    "btc_resistance_6 = btc_df_period_6['Price (USD)'].max()\n",
    "\n",
    "\n",
    "# Calculate the percentage change of the price of BTC\n",
    "btc_df_period_6_dc = btc_df_period_6.pct_change()\n",
    "\n",
    "# Calculate the Standard Deviation of the Percantage Change of the price of BTC\n",
    "btc_df_period_6_dc_sd = btc_df_period_6_dc['Price (USD)'].std()\n",
    "\n",
    "# Calculate the Mean of the Percantage Change of the price of BTC\n",
    "btc_df_period_6_dc_mean = btc_df_period_6_dc['Price (USD)'].mean()\n",
    "\n",
    "# Calculate the Sharpe Ratio. Assuming a risk free rate of 1.8%\n",
    "btc_df_period_6_dc_sharp_ratio = (btc_df_period_6_dc_mean * (1-0.018) ) / btc_df_period_6_dc_sd\n",
    "\n",
    "\n",
    "\n",
    "print(\"\\33[1m\" + \"Bitcoin daily change data between \"+ btc_period_6_start + \" and \" + btc_period_6_finish + \"\\33[0m\")\n",
    "print()\n",
    "print(\"Support of the period: \" + str(btc_support_6))\n",
    "print()\n",
    "print(\"Resistance of the period: \" + str(btc_resistance_6))\n",
    "print()\n",
    "print(\"Mean of the daily changes: \" + str(btc_df_period_6_dc_mean)) \n",
    "print()\n",
    "print(\"Standard Deviation of the daily changes: \" + str(btc_df_period_6_dc_sd))\n",
    "print()\n",
    "print(\"Sharpe Ratio (with a risk free rate of 1.8%): \" + str(btc_df_period_6_dc_sharp_ratio))\n",
    "print()\n",
    "print(btc_df_period_6_dc.hist('Price (USD)'))"
   ]
  },
  {
   "cell_type": "code",
   "execution_count": 9,
   "id": "f3cbd00b-8156-4dfb-92b5-7af8546f38cf",
   "metadata": {},
   "outputs": [
    {
     "name": "stdout",
     "output_type": "stream",
     "text": [
      "\u001b[1mBitcoin's historical supports\u001b[0m\n",
      "Support 1: 3189.02\n",
      "Support 2: 3403.55\n",
      "Support 3: 3211.72\n",
      "Support 4: 5312.64\n",
      "Support 5: 36690.09\n",
      "Support 6: 29790.35\n",
      "\n",
      "\u001b[1mBitcoin's historical resistances\u001b[0m\n",
      "Resistance 1: 19102.66\n",
      "Resistance 2: 17069.79\n",
      "Resistance 3: 13093.8\n",
      "Resistance 4: 46374.87\n",
      "Resistance 5: 63575.0\n",
      "Resistance 6: 66001.41\n",
      "\n"
     ]
    }
   ],
   "source": [
    "# Showcase the support and resistance of the different periods of Bitcoin\n",
    "\n",
    "print(\"\\33[1m\" + \"Bitcoin's historical supports\" + \"\\33[0m\")\n",
    "print(\"Support 1: \" + str(btc_support_1))\n",
    "print(\"Support 2: \" + str(btc_support_2))\n",
    "print(\"Support 3: \" + str(btc_support_3))\n",
    "print(\"Support 4: \" + str(btc_support_4))\n",
    "print(\"Support 5: \" + str(btc_support_5))\n",
    "print(\"Support 6: \" + str(btc_support_6))\n",
    "print()\n",
    "print(\"\\33[1m\" + \"Bitcoin's historical resistances\" + \"\\33[0m\")\n",
    "print(\"Resistance 1: \" + str(btc_resistance_1))\n",
    "print(\"Resistance 2: \" + str(btc_resistance_2))\n",
    "print(\"Resistance 3: \" + str(btc_resistance_3))\n",
    "print(\"Resistance 4: \" + str(btc_resistance_4))\n",
    "print(\"Resistance 5: \" + str(btc_resistance_5))\n",
    "print(\"Resistance 6: \" + str(btc_resistance_6))\n",
    "print()"
   ]
  },
  {
   "cell_type": "code",
   "execution_count": null,
   "id": "b6fb9a06-ef06-41b7-835a-2a22f23d06f8",
   "metadata": {},
   "outputs": [],
   "source": []
  },
  {
   "cell_type": "code",
   "execution_count": null,
   "id": "4b21d209-dcb7-46e3-ab40-28cef0929c4b",
   "metadata": {},
   "outputs": [],
   "source": []
  }
 ],
 "metadata": {
  "kernelspec": {
   "display_name": "Python 3",
   "language": "python",
   "name": "python3"
  },
  "language_info": {
   "codemirror_mode": {
    "name": "ipython",
    "version": 3
   },
   "file_extension": ".py",
   "mimetype": "text/x-python",
   "name": "python",
   "nbconvert_exporter": "python",
   "pygments_lexer": "ipython3",
   "version": "3.8.8"
  }
 },
 "nbformat": 4,
 "nbformat_minor": 5
}
